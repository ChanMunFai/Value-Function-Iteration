{
 "cells": [
  {
   "cell_type": "markdown",
   "metadata": {},
   "source": [
    "# Learning by Necessity \n",
    "\n",
    "Ethan Ilzetzki"
   ]
  },
  {
   "cell_type": "code",
   "execution_count": 363,
   "metadata": {},
   "outputs": [],
   "source": [
    "import numpy as np\n",
    "from numpy import inf\n",
    "import pandas as pd"
   ]
  },
  {
   "cell_type": "markdown",
   "metadata": {},
   "source": [
    "### Parameters"
   ]
  },
  {
   "cell_type": "code",
   "execution_count": 337,
   "metadata": {},
   "outputs": [],
   "source": [
    "R = 1.03 # real interest rate \n",
    "z = 0.3 \n",
    "alph = 2/3 # typical labour share\n",
    "d = 0.08 # depreciation rate\n",
    "YPostWar = 0.3\n",
    "YPreWar = 0.1 # 1938\n",
    "YWar = [0.15, 0.325, 0.66, 1.2, 2.1, 2.4, 1.2, 0.9, 0.44] # 1939 to 1947 \n",
    "PreWarLength = 5\n",
    "WarLength = len(YWar)"
   ]
  },
  {
   "cell_type": "markdown",
   "metadata": {},
   "source": [
    "## Calibrated Parameters"
   ]
  },
  {
   "cell_type": "code",
   "execution_count": 338,
   "metadata": {},
   "outputs": [],
   "source": [
    "phi = 1 # need to calibrate \n",
    "w = 0.526 \n",
    "W = 0.24 * 0.25 * w\n",
    "overtime = 0.5\n",
    "FullTime = 0.24\n",
    "delta = 0.0364\n",
    "psi = 1 # need to calibrate"
   ]
  },
  {
   "cell_type": "markdown",
   "metadata": {},
   "source": [
    "## Grids "
   ]
  },
  {
   "cell_type": "code",
   "execution_count": 339,
   "metadata": {},
   "outputs": [],
   "source": [
    "T = 12 # 100\n",
    "ngridLK = 3 # 50\n",
    "ngridH = 5 # 10\n",
    "grid = ngridLK**2 * ngridH\n",
    "\n",
    "maxK = 10 # 20\n",
    "maxL = 5 # 20\n",
    "maxH = 0.35 \n",
    "minH = 0.15"
   ]
  },
  {
   "cell_type": "code",
   "execution_count": 340,
   "metadata": {},
   "outputs": [],
   "source": [
    "# gridK is a matrix with 1st value = 0 and last value = maxK. Total number of values = ngridLK \n",
    "\n",
    "gridK = np.linspace(0, maxK, ngridLK)\n",
    "gridL = np.linspace(0, maxL, ngridLK)\n",
    "gridH = np.linspace(minH, maxH, ngridH)"
   ]
  },
  {
   "cell_type": "markdown",
   "metadata": {},
   "source": [
    "## Matrices\n",
    "HH, KK, KKNext, LL, LLNext is 45 X 9 matrix "
   ]
  },
  {
   "cell_type": "code",
   "execution_count": 341,
   "metadata": {},
   "outputs": [
    {
     "data": {
      "text/plain": [
       "(45, 9)"
      ]
     },
     "execution_count": 341,
     "metadata": {},
     "output_type": "execute_result"
    }
   ],
   "source": [
    "HH_first = np.transpose(np.ones(ngridLK**2))\n",
    "HH_second = np.kron(HH_first, np.transpose(gridH))\n",
    "HH = np.tile(HH_second, (ngridLK**2,1)).transpose()\n",
    "HH.shape"
   ]
  },
  {
   "cell_type": "code",
   "execution_count": 342,
   "metadata": {},
   "outputs": [
    {
     "data": {
      "text/plain": [
       "array([[0.15, 0.15, 0.15, 0.15, 0.15, 0.15, 0.15, 0.15, 0.15],\n",
       "       [0.2 , 0.2 , 0.2 , 0.2 , 0.2 , 0.2 , 0.2 , 0.2 , 0.2 ],\n",
       "       [0.25, 0.25, 0.25, 0.25, 0.25, 0.25, 0.25, 0.25, 0.25],\n",
       "       [0.3 , 0.3 , 0.3 , 0.3 , 0.3 , 0.3 , 0.3 , 0.3 , 0.3 ],\n",
       "       [0.35, 0.35, 0.35, 0.35, 0.35, 0.35, 0.35, 0.35, 0.35],\n",
       "       [0.15, 0.15, 0.15, 0.15, 0.15, 0.15, 0.15, 0.15, 0.15],\n",
       "       [0.2 , 0.2 , 0.2 , 0.2 , 0.2 , 0.2 , 0.2 , 0.2 , 0.2 ],\n",
       "       [0.25, 0.25, 0.25, 0.25, 0.25, 0.25, 0.25, 0.25, 0.25],\n",
       "       [0.3 , 0.3 , 0.3 , 0.3 , 0.3 , 0.3 , 0.3 , 0.3 , 0.3 ],\n",
       "       [0.35, 0.35, 0.35, 0.35, 0.35, 0.35, 0.35, 0.35, 0.35],\n",
       "       [0.15, 0.15, 0.15, 0.15, 0.15, 0.15, 0.15, 0.15, 0.15],\n",
       "       [0.2 , 0.2 , 0.2 , 0.2 , 0.2 , 0.2 , 0.2 , 0.2 , 0.2 ],\n",
       "       [0.25, 0.25, 0.25, 0.25, 0.25, 0.25, 0.25, 0.25, 0.25],\n",
       "       [0.3 , 0.3 , 0.3 , 0.3 , 0.3 , 0.3 , 0.3 , 0.3 , 0.3 ],\n",
       "       [0.35, 0.35, 0.35, 0.35, 0.35, 0.35, 0.35, 0.35, 0.35],\n",
       "       [0.15, 0.15, 0.15, 0.15, 0.15, 0.15, 0.15, 0.15, 0.15],\n",
       "       [0.2 , 0.2 , 0.2 , 0.2 , 0.2 , 0.2 , 0.2 , 0.2 , 0.2 ],\n",
       "       [0.25, 0.25, 0.25, 0.25, 0.25, 0.25, 0.25, 0.25, 0.25],\n",
       "       [0.3 , 0.3 , 0.3 , 0.3 , 0.3 , 0.3 , 0.3 , 0.3 , 0.3 ],\n",
       "       [0.35, 0.35, 0.35, 0.35, 0.35, 0.35, 0.35, 0.35, 0.35],\n",
       "       [0.15, 0.15, 0.15, 0.15, 0.15, 0.15, 0.15, 0.15, 0.15],\n",
       "       [0.2 , 0.2 , 0.2 , 0.2 , 0.2 , 0.2 , 0.2 , 0.2 , 0.2 ],\n",
       "       [0.25, 0.25, 0.25, 0.25, 0.25, 0.25, 0.25, 0.25, 0.25],\n",
       "       [0.3 , 0.3 , 0.3 , 0.3 , 0.3 , 0.3 , 0.3 , 0.3 , 0.3 ],\n",
       "       [0.35, 0.35, 0.35, 0.35, 0.35, 0.35, 0.35, 0.35, 0.35],\n",
       "       [0.15, 0.15, 0.15, 0.15, 0.15, 0.15, 0.15, 0.15, 0.15],\n",
       "       [0.2 , 0.2 , 0.2 , 0.2 , 0.2 , 0.2 , 0.2 , 0.2 , 0.2 ],\n",
       "       [0.25, 0.25, 0.25, 0.25, 0.25, 0.25, 0.25, 0.25, 0.25],\n",
       "       [0.3 , 0.3 , 0.3 , 0.3 , 0.3 , 0.3 , 0.3 , 0.3 , 0.3 ],\n",
       "       [0.35, 0.35, 0.35, 0.35, 0.35, 0.35, 0.35, 0.35, 0.35],\n",
       "       [0.15, 0.15, 0.15, 0.15, 0.15, 0.15, 0.15, 0.15, 0.15],\n",
       "       [0.2 , 0.2 , 0.2 , 0.2 , 0.2 , 0.2 , 0.2 , 0.2 , 0.2 ],\n",
       "       [0.25, 0.25, 0.25, 0.25, 0.25, 0.25, 0.25, 0.25, 0.25],\n",
       "       [0.3 , 0.3 , 0.3 , 0.3 , 0.3 , 0.3 , 0.3 , 0.3 , 0.3 ],\n",
       "       [0.35, 0.35, 0.35, 0.35, 0.35, 0.35, 0.35, 0.35, 0.35],\n",
       "       [0.15, 0.15, 0.15, 0.15, 0.15, 0.15, 0.15, 0.15, 0.15],\n",
       "       [0.2 , 0.2 , 0.2 , 0.2 , 0.2 , 0.2 , 0.2 , 0.2 , 0.2 ],\n",
       "       [0.25, 0.25, 0.25, 0.25, 0.25, 0.25, 0.25, 0.25, 0.25],\n",
       "       [0.3 , 0.3 , 0.3 , 0.3 , 0.3 , 0.3 , 0.3 , 0.3 , 0.3 ],\n",
       "       [0.35, 0.35, 0.35, 0.35, 0.35, 0.35, 0.35, 0.35, 0.35],\n",
       "       [0.15, 0.15, 0.15, 0.15, 0.15, 0.15, 0.15, 0.15, 0.15],\n",
       "       [0.2 , 0.2 , 0.2 , 0.2 , 0.2 , 0.2 , 0.2 , 0.2 , 0.2 ],\n",
       "       [0.25, 0.25, 0.25, 0.25, 0.25, 0.25, 0.25, 0.25, 0.25],\n",
       "       [0.3 , 0.3 , 0.3 , 0.3 , 0.3 , 0.3 , 0.3 , 0.3 , 0.3 ],\n",
       "       [0.35, 0.35, 0.35, 0.35, 0.35, 0.35, 0.35, 0.35, 0.35]])"
      ]
     },
     "execution_count": 342,
     "metadata": {},
     "output_type": "execute_result"
    }
   ],
   "source": [
    "HH # Figure out what rows and columns mean "
   ]
  },
  {
   "cell_type": "code",
   "execution_count": 343,
   "metadata": {},
   "outputs": [
    {
     "data": {
      "text/plain": [
       "(45, 9)"
      ]
     },
     "execution_count": 343,
     "metadata": {},
     "output_type": "execute_result"
    }
   ],
   "source": [
    "LLNext_first = np.kron(gridL.transpose(), np.ones(ngridH))\n",
    "LLNext_second = np.kron(np.ones(ngridLK), LLNext_first)\n",
    "LLNext = np.tile(LLNext_second, (ngridLK**2,1)).transpose()\n",
    "LLNext.shape"
   ]
  },
  {
   "cell_type": "code",
   "execution_count": 344,
   "metadata": {},
   "outputs": [
    {
     "data": {
      "text/plain": [
       "array([[0. , 0. , 0. , 0. , 0. , 0. , 0. , 0. , 0. ],\n",
       "       [0. , 0. , 0. , 0. , 0. , 0. , 0. , 0. , 0. ],\n",
       "       [0. , 0. , 0. , 0. , 0. , 0. , 0. , 0. , 0. ],\n",
       "       [0. , 0. , 0. , 0. , 0. , 0. , 0. , 0. , 0. ],\n",
       "       [0. , 0. , 0. , 0. , 0. , 0. , 0. , 0. , 0. ],\n",
       "       [2.5, 2.5, 2.5, 2.5, 2.5, 2.5, 2.5, 2.5, 2.5],\n",
       "       [2.5, 2.5, 2.5, 2.5, 2.5, 2.5, 2.5, 2.5, 2.5],\n",
       "       [2.5, 2.5, 2.5, 2.5, 2.5, 2.5, 2.5, 2.5, 2.5],\n",
       "       [2.5, 2.5, 2.5, 2.5, 2.5, 2.5, 2.5, 2.5, 2.5],\n",
       "       [2.5, 2.5, 2.5, 2.5, 2.5, 2.5, 2.5, 2.5, 2.5],\n",
       "       [5. , 5. , 5. , 5. , 5. , 5. , 5. , 5. , 5. ],\n",
       "       [5. , 5. , 5. , 5. , 5. , 5. , 5. , 5. , 5. ],\n",
       "       [5. , 5. , 5. , 5. , 5. , 5. , 5. , 5. , 5. ],\n",
       "       [5. , 5. , 5. , 5. , 5. , 5. , 5. , 5. , 5. ],\n",
       "       [5. , 5. , 5. , 5. , 5. , 5. , 5. , 5. , 5. ],\n",
       "       [0. , 0. , 0. , 0. , 0. , 0. , 0. , 0. , 0. ],\n",
       "       [0. , 0. , 0. , 0. , 0. , 0. , 0. , 0. , 0. ],\n",
       "       [0. , 0. , 0. , 0. , 0. , 0. , 0. , 0. , 0. ],\n",
       "       [0. , 0. , 0. , 0. , 0. , 0. , 0. , 0. , 0. ],\n",
       "       [0. , 0. , 0. , 0. , 0. , 0. , 0. , 0. , 0. ],\n",
       "       [2.5, 2.5, 2.5, 2.5, 2.5, 2.5, 2.5, 2.5, 2.5],\n",
       "       [2.5, 2.5, 2.5, 2.5, 2.5, 2.5, 2.5, 2.5, 2.5],\n",
       "       [2.5, 2.5, 2.5, 2.5, 2.5, 2.5, 2.5, 2.5, 2.5],\n",
       "       [2.5, 2.5, 2.5, 2.5, 2.5, 2.5, 2.5, 2.5, 2.5],\n",
       "       [2.5, 2.5, 2.5, 2.5, 2.5, 2.5, 2.5, 2.5, 2.5],\n",
       "       [5. , 5. , 5. , 5. , 5. , 5. , 5. , 5. , 5. ],\n",
       "       [5. , 5. , 5. , 5. , 5. , 5. , 5. , 5. , 5. ],\n",
       "       [5. , 5. , 5. , 5. , 5. , 5. , 5. , 5. , 5. ],\n",
       "       [5. , 5. , 5. , 5. , 5. , 5. , 5. , 5. , 5. ],\n",
       "       [5. , 5. , 5. , 5. , 5. , 5. , 5. , 5. , 5. ],\n",
       "       [0. , 0. , 0. , 0. , 0. , 0. , 0. , 0. , 0. ],\n",
       "       [0. , 0. , 0. , 0. , 0. , 0. , 0. , 0. , 0. ],\n",
       "       [0. , 0. , 0. , 0. , 0. , 0. , 0. , 0. , 0. ],\n",
       "       [0. , 0. , 0. , 0. , 0. , 0. , 0. , 0. , 0. ],\n",
       "       [0. , 0. , 0. , 0. , 0. , 0. , 0. , 0. , 0. ],\n",
       "       [2.5, 2.5, 2.5, 2.5, 2.5, 2.5, 2.5, 2.5, 2.5],\n",
       "       [2.5, 2.5, 2.5, 2.5, 2.5, 2.5, 2.5, 2.5, 2.5],\n",
       "       [2.5, 2.5, 2.5, 2.5, 2.5, 2.5, 2.5, 2.5, 2.5],\n",
       "       [2.5, 2.5, 2.5, 2.5, 2.5, 2.5, 2.5, 2.5, 2.5],\n",
       "       [2.5, 2.5, 2.5, 2.5, 2.5, 2.5, 2.5, 2.5, 2.5],\n",
       "       [5. , 5. , 5. , 5. , 5. , 5. , 5. , 5. , 5. ],\n",
       "       [5. , 5. , 5. , 5. , 5. , 5. , 5. , 5. , 5. ],\n",
       "       [5. , 5. , 5. , 5. , 5. , 5. , 5. , 5. , 5. ],\n",
       "       [5. , 5. , 5. , 5. , 5. , 5. , 5. , 5. , 5. ],\n",
       "       [5. , 5. , 5. , 5. , 5. , 5. , 5. , 5. , 5. ]])"
      ]
     },
     "execution_count": 344,
     "metadata": {},
     "output_type": "execute_result"
    }
   ],
   "source": [
    "LLNext"
   ]
  },
  {
   "cell_type": "code",
   "execution_count": 345,
   "metadata": {},
   "outputs": [
    {
     "data": {
      "text/plain": [
       "(45, 9)"
      ]
     },
     "execution_count": 345,
     "metadata": {},
     "output_type": "execute_result"
    }
   ],
   "source": [
    "KKNext_first = np.kron(gridK.transpose(), np.ones(ngridH * ngridLK))\n",
    "KKNext = np.tile(KKNext_first, (ngridLK**2,1)).transpose()\n",
    "KKNext.shape"
   ]
  },
  {
   "cell_type": "code",
   "execution_count": 346,
   "metadata": {},
   "outputs": [
    {
     "data": {
      "text/plain": [
       "array([[ 0.,  0.,  0.,  0.,  0.,  0.,  0.,  0.,  0.],\n",
       "       [ 0.,  0.,  0.,  0.,  0.,  0.,  0.,  0.,  0.],\n",
       "       [ 0.,  0.,  0.,  0.,  0.,  0.,  0.,  0.,  0.],\n",
       "       [ 0.,  0.,  0.,  0.,  0.,  0.,  0.,  0.,  0.],\n",
       "       [ 0.,  0.,  0.,  0.,  0.,  0.,  0.,  0.,  0.],\n",
       "       [ 0.,  0.,  0.,  0.,  0.,  0.,  0.,  0.,  0.],\n",
       "       [ 0.,  0.,  0.,  0.,  0.,  0.,  0.,  0.,  0.],\n",
       "       [ 0.,  0.,  0.,  0.,  0.,  0.,  0.,  0.,  0.],\n",
       "       [ 0.,  0.,  0.,  0.,  0.,  0.,  0.,  0.,  0.],\n",
       "       [ 0.,  0.,  0.,  0.,  0.,  0.,  0.,  0.,  0.],\n",
       "       [ 0.,  0.,  0.,  0.,  0.,  0.,  0.,  0.,  0.],\n",
       "       [ 0.,  0.,  0.,  0.,  0.,  0.,  0.,  0.,  0.],\n",
       "       [ 0.,  0.,  0.,  0.,  0.,  0.,  0.,  0.,  0.],\n",
       "       [ 0.,  0.,  0.,  0.,  0.,  0.,  0.,  0.,  0.],\n",
       "       [ 0.,  0.,  0.,  0.,  0.,  0.,  0.,  0.,  0.],\n",
       "       [ 5.,  5.,  5.,  5.,  5.,  5.,  5.,  5.,  5.],\n",
       "       [ 5.,  5.,  5.,  5.,  5.,  5.,  5.,  5.,  5.],\n",
       "       [ 5.,  5.,  5.,  5.,  5.,  5.,  5.,  5.,  5.],\n",
       "       [ 5.,  5.,  5.,  5.,  5.,  5.,  5.,  5.,  5.],\n",
       "       [ 5.,  5.,  5.,  5.,  5.,  5.,  5.,  5.,  5.],\n",
       "       [ 5.,  5.,  5.,  5.,  5.,  5.,  5.,  5.,  5.],\n",
       "       [ 5.,  5.,  5.,  5.,  5.,  5.,  5.,  5.,  5.],\n",
       "       [ 5.,  5.,  5.,  5.,  5.,  5.,  5.,  5.,  5.],\n",
       "       [ 5.,  5.,  5.,  5.,  5.,  5.,  5.,  5.,  5.],\n",
       "       [ 5.,  5.,  5.,  5.,  5.,  5.,  5.,  5.,  5.],\n",
       "       [ 5.,  5.,  5.,  5.,  5.,  5.,  5.,  5.,  5.],\n",
       "       [ 5.,  5.,  5.,  5.,  5.,  5.,  5.,  5.,  5.],\n",
       "       [ 5.,  5.,  5.,  5.,  5.,  5.,  5.,  5.,  5.],\n",
       "       [ 5.,  5.,  5.,  5.,  5.,  5.,  5.,  5.,  5.],\n",
       "       [ 5.,  5.,  5.,  5.,  5.,  5.,  5.,  5.,  5.],\n",
       "       [10., 10., 10., 10., 10., 10., 10., 10., 10.],\n",
       "       [10., 10., 10., 10., 10., 10., 10., 10., 10.],\n",
       "       [10., 10., 10., 10., 10., 10., 10., 10., 10.],\n",
       "       [10., 10., 10., 10., 10., 10., 10., 10., 10.],\n",
       "       [10., 10., 10., 10., 10., 10., 10., 10., 10.],\n",
       "       [10., 10., 10., 10., 10., 10., 10., 10., 10.],\n",
       "       [10., 10., 10., 10., 10., 10., 10., 10., 10.],\n",
       "       [10., 10., 10., 10., 10., 10., 10., 10., 10.],\n",
       "       [10., 10., 10., 10., 10., 10., 10., 10., 10.],\n",
       "       [10., 10., 10., 10., 10., 10., 10., 10., 10.],\n",
       "       [10., 10., 10., 10., 10., 10., 10., 10., 10.],\n",
       "       [10., 10., 10., 10., 10., 10., 10., 10., 10.],\n",
       "       [10., 10., 10., 10., 10., 10., 10., 10., 10.],\n",
       "       [10., 10., 10., 10., 10., 10., 10., 10., 10.],\n",
       "       [10., 10., 10., 10., 10., 10., 10., 10., 10.]])"
      ]
     },
     "execution_count": 346,
     "metadata": {},
     "output_type": "execute_result"
    }
   ],
   "source": [
    "KKNext"
   ]
  },
  {
   "cell_type": "code",
   "execution_count": 347,
   "metadata": {},
   "outputs": [
    {
     "data": {
      "text/plain": [
       "(45,)"
      ]
     },
     "execution_count": 347,
     "metadata": {},
     "output_type": "execute_result"
    }
   ],
   "source": [
    "np.ones(grid).shape"
   ]
  },
  {
   "cell_type": "code",
   "execution_count": 348,
   "metadata": {},
   "outputs": [
    {
     "data": {
      "text/plain": [
       "(45, 9)"
      ]
     },
     "execution_count": 348,
     "metadata": {},
     "output_type": "execute_result"
    }
   ],
   "source": [
    "LL_first = np.kron(np.ones(ngridLK), gridL)\n",
    "LL = np.tile(LL_first, (grid,1))\n",
    "LL.shape"
   ]
  },
  {
   "cell_type": "code",
   "execution_count": 349,
   "metadata": {},
   "outputs": [
    {
     "data": {
      "text/plain": [
       "array([[0. , 2.5, 5. , 0. , 2.5, 5. , 0. , 2.5, 5. ],\n",
       "       [0. , 2.5, 5. , 0. , 2.5, 5. , 0. , 2.5, 5. ],\n",
       "       [0. , 2.5, 5. , 0. , 2.5, 5. , 0. , 2.5, 5. ],\n",
       "       [0. , 2.5, 5. , 0. , 2.5, 5. , 0. , 2.5, 5. ],\n",
       "       [0. , 2.5, 5. , 0. , 2.5, 5. , 0. , 2.5, 5. ],\n",
       "       [0. , 2.5, 5. , 0. , 2.5, 5. , 0. , 2.5, 5. ],\n",
       "       [0. , 2.5, 5. , 0. , 2.5, 5. , 0. , 2.5, 5. ],\n",
       "       [0. , 2.5, 5. , 0. , 2.5, 5. , 0. , 2.5, 5. ],\n",
       "       [0. , 2.5, 5. , 0. , 2.5, 5. , 0. , 2.5, 5. ],\n",
       "       [0. , 2.5, 5. , 0. , 2.5, 5. , 0. , 2.5, 5. ],\n",
       "       [0. , 2.5, 5. , 0. , 2.5, 5. , 0. , 2.5, 5. ],\n",
       "       [0. , 2.5, 5. , 0. , 2.5, 5. , 0. , 2.5, 5. ],\n",
       "       [0. , 2.5, 5. , 0. , 2.5, 5. , 0. , 2.5, 5. ],\n",
       "       [0. , 2.5, 5. , 0. , 2.5, 5. , 0. , 2.5, 5. ],\n",
       "       [0. , 2.5, 5. , 0. , 2.5, 5. , 0. , 2.5, 5. ],\n",
       "       [0. , 2.5, 5. , 0. , 2.5, 5. , 0. , 2.5, 5. ],\n",
       "       [0. , 2.5, 5. , 0. , 2.5, 5. , 0. , 2.5, 5. ],\n",
       "       [0. , 2.5, 5. , 0. , 2.5, 5. , 0. , 2.5, 5. ],\n",
       "       [0. , 2.5, 5. , 0. , 2.5, 5. , 0. , 2.5, 5. ],\n",
       "       [0. , 2.5, 5. , 0. , 2.5, 5. , 0. , 2.5, 5. ],\n",
       "       [0. , 2.5, 5. , 0. , 2.5, 5. , 0. , 2.5, 5. ],\n",
       "       [0. , 2.5, 5. , 0. , 2.5, 5. , 0. , 2.5, 5. ],\n",
       "       [0. , 2.5, 5. , 0. , 2.5, 5. , 0. , 2.5, 5. ],\n",
       "       [0. , 2.5, 5. , 0. , 2.5, 5. , 0. , 2.5, 5. ],\n",
       "       [0. , 2.5, 5. , 0. , 2.5, 5. , 0. , 2.5, 5. ],\n",
       "       [0. , 2.5, 5. , 0. , 2.5, 5. , 0. , 2.5, 5. ],\n",
       "       [0. , 2.5, 5. , 0. , 2.5, 5. , 0. , 2.5, 5. ],\n",
       "       [0. , 2.5, 5. , 0. , 2.5, 5. , 0. , 2.5, 5. ],\n",
       "       [0. , 2.5, 5. , 0. , 2.5, 5. , 0. , 2.5, 5. ],\n",
       "       [0. , 2.5, 5. , 0. , 2.5, 5. , 0. , 2.5, 5. ],\n",
       "       [0. , 2.5, 5. , 0. , 2.5, 5. , 0. , 2.5, 5. ],\n",
       "       [0. , 2.5, 5. , 0. , 2.5, 5. , 0. , 2.5, 5. ],\n",
       "       [0. , 2.5, 5. , 0. , 2.5, 5. , 0. , 2.5, 5. ],\n",
       "       [0. , 2.5, 5. , 0. , 2.5, 5. , 0. , 2.5, 5. ],\n",
       "       [0. , 2.5, 5. , 0. , 2.5, 5. , 0. , 2.5, 5. ],\n",
       "       [0. , 2.5, 5. , 0. , 2.5, 5. , 0. , 2.5, 5. ],\n",
       "       [0. , 2.5, 5. , 0. , 2.5, 5. , 0. , 2.5, 5. ],\n",
       "       [0. , 2.5, 5. , 0. , 2.5, 5. , 0. , 2.5, 5. ],\n",
       "       [0. , 2.5, 5. , 0. , 2.5, 5. , 0. , 2.5, 5. ],\n",
       "       [0. , 2.5, 5. , 0. , 2.5, 5. , 0. , 2.5, 5. ],\n",
       "       [0. , 2.5, 5. , 0. , 2.5, 5. , 0. , 2.5, 5. ],\n",
       "       [0. , 2.5, 5. , 0. , 2.5, 5. , 0. , 2.5, 5. ],\n",
       "       [0. , 2.5, 5. , 0. , 2.5, 5. , 0. , 2.5, 5. ],\n",
       "       [0. , 2.5, 5. , 0. , 2.5, 5. , 0. , 2.5, 5. ],\n",
       "       [0. , 2.5, 5. , 0. , 2.5, 5. , 0. , 2.5, 5. ]])"
      ]
     },
     "execution_count": 349,
     "metadata": {},
     "output_type": "execute_result"
    }
   ],
   "source": [
    "LL"
   ]
  },
  {
   "cell_type": "code",
   "execution_count": 350,
   "metadata": {},
   "outputs": [
    {
     "data": {
      "text/plain": [
       "(45, 9)"
      ]
     },
     "execution_count": 350,
     "metadata": {},
     "output_type": "execute_result"
    }
   ],
   "source": [
    "KK_first = np.kron(gridK, np.ones(ngridLK))\n",
    "KK = np.tile(KK_first, (grid,1))\n",
    "KK.shape"
   ]
  },
  {
   "cell_type": "code",
   "execution_count": 351,
   "metadata": {},
   "outputs": [
    {
     "data": {
      "text/plain": [
       "array([[ 0.,  0.,  0.,  5.,  5.,  5., 10., 10., 10.],\n",
       "       [ 0.,  0.,  0.,  5.,  5.,  5., 10., 10., 10.],\n",
       "       [ 0.,  0.,  0.,  5.,  5.,  5., 10., 10., 10.],\n",
       "       [ 0.,  0.,  0.,  5.,  5.,  5., 10., 10., 10.],\n",
       "       [ 0.,  0.,  0.,  5.,  5.,  5., 10., 10., 10.],\n",
       "       [ 0.,  0.,  0.,  5.,  5.,  5., 10., 10., 10.],\n",
       "       [ 0.,  0.,  0.,  5.,  5.,  5., 10., 10., 10.],\n",
       "       [ 0.,  0.,  0.,  5.,  5.,  5., 10., 10., 10.],\n",
       "       [ 0.,  0.,  0.,  5.,  5.,  5., 10., 10., 10.],\n",
       "       [ 0.,  0.,  0.,  5.,  5.,  5., 10., 10., 10.],\n",
       "       [ 0.,  0.,  0.,  5.,  5.,  5., 10., 10., 10.],\n",
       "       [ 0.,  0.,  0.,  5.,  5.,  5., 10., 10., 10.],\n",
       "       [ 0.,  0.,  0.,  5.,  5.,  5., 10., 10., 10.],\n",
       "       [ 0.,  0.,  0.,  5.,  5.,  5., 10., 10., 10.],\n",
       "       [ 0.,  0.,  0.,  5.,  5.,  5., 10., 10., 10.],\n",
       "       [ 0.,  0.,  0.,  5.,  5.,  5., 10., 10., 10.],\n",
       "       [ 0.,  0.,  0.,  5.,  5.,  5., 10., 10., 10.],\n",
       "       [ 0.,  0.,  0.,  5.,  5.,  5., 10., 10., 10.],\n",
       "       [ 0.,  0.,  0.,  5.,  5.,  5., 10., 10., 10.],\n",
       "       [ 0.,  0.,  0.,  5.,  5.,  5., 10., 10., 10.],\n",
       "       [ 0.,  0.,  0.,  5.,  5.,  5., 10., 10., 10.],\n",
       "       [ 0.,  0.,  0.,  5.,  5.,  5., 10., 10., 10.],\n",
       "       [ 0.,  0.,  0.,  5.,  5.,  5., 10., 10., 10.],\n",
       "       [ 0.,  0.,  0.,  5.,  5.,  5., 10., 10., 10.],\n",
       "       [ 0.,  0.,  0.,  5.,  5.,  5., 10., 10., 10.],\n",
       "       [ 0.,  0.,  0.,  5.,  5.,  5., 10., 10., 10.],\n",
       "       [ 0.,  0.,  0.,  5.,  5.,  5., 10., 10., 10.],\n",
       "       [ 0.,  0.,  0.,  5.,  5.,  5., 10., 10., 10.],\n",
       "       [ 0.,  0.,  0.,  5.,  5.,  5., 10., 10., 10.],\n",
       "       [ 0.,  0.,  0.,  5.,  5.,  5., 10., 10., 10.],\n",
       "       [ 0.,  0.,  0.,  5.,  5.,  5., 10., 10., 10.],\n",
       "       [ 0.,  0.,  0.,  5.,  5.,  5., 10., 10., 10.],\n",
       "       [ 0.,  0.,  0.,  5.,  5.,  5., 10., 10., 10.],\n",
       "       [ 0.,  0.,  0.,  5.,  5.,  5., 10., 10., 10.],\n",
       "       [ 0.,  0.,  0.,  5.,  5.,  5., 10., 10., 10.],\n",
       "       [ 0.,  0.,  0.,  5.,  5.,  5., 10., 10., 10.],\n",
       "       [ 0.,  0.,  0.,  5.,  5.,  5., 10., 10., 10.],\n",
       "       [ 0.,  0.,  0.,  5.,  5.,  5., 10., 10., 10.],\n",
       "       [ 0.,  0.,  0.,  5.,  5.,  5., 10., 10., 10.],\n",
       "       [ 0.,  0.,  0.,  5.,  5.,  5., 10., 10., 10.],\n",
       "       [ 0.,  0.,  0.,  5.,  5.,  5., 10., 10., 10.],\n",
       "       [ 0.,  0.,  0.,  5.,  5.,  5., 10., 10., 10.],\n",
       "       [ 0.,  0.,  0.,  5.,  5.,  5., 10., 10., 10.],\n",
       "       [ 0.,  0.,  0.,  5.,  5.,  5., 10., 10., 10.],\n",
       "       [ 0.,  0.,  0.,  5.,  5.,  5., 10., 10., 10.]])"
      ]
     },
     "execution_count": 351,
     "metadata": {},
     "output_type": "execute_result"
    }
   ],
   "source": [
    "KK"
   ]
  },
  {
   "cell_type": "code",
   "execution_count": 352,
   "metadata": {},
   "outputs": [
    {
     "data": {
      "text/plain": [
       "[0.1, 0.15, 0.325, 0.66, 1.2, 2.1, 2.4, 1.2, 0.9, 0.44, 0.3, 0.3]"
      ]
     },
     "execution_count": 352,
     "metadata": {},
     "output_type": "execute_result"
    }
   ],
   "source": [
    "Y = [[YPreWar], YWar, [YPostWar] * (T-WarLength-1)]\n",
    "Y = list(np.concatenate(Y).flat) # flatten list\n",
    "Y"
   ]
  },
  {
   "cell_type": "code",
   "execution_count": 355,
   "metadata": {},
   "outputs": [],
   "source": [
    "CostNPV = np.zeros((ngridLK**2, T+1))\n",
    "Choices = np.zeros((ngridLK**2, T))\n",
    "CostNow = np.zeros_like(HH)"
   ]
  },
  {
   "cell_type": "code",
   "execution_count": 356,
   "metadata": {},
   "outputs": [
    {
     "data": {
      "text/plain": [
       "array([[0., 0., 0., 0., 0., 0., 0., 0., 0., 0., 0., 0.],\n",
       "       [0., 0., 0., 0., 0., 0., 0., 0., 0., 0., 0., 0.],\n",
       "       [0., 0., 0., 0., 0., 0., 0., 0., 0., 0., 0., 0.],\n",
       "       [0., 0., 0., 0., 0., 0., 0., 0., 0., 0., 0., 0.],\n",
       "       [0., 0., 0., 0., 0., 0., 0., 0., 0., 0., 0., 0.],\n",
       "       [0., 0., 0., 0., 0., 0., 0., 0., 0., 0., 0., 0.],\n",
       "       [0., 0., 0., 0., 0., 0., 0., 0., 0., 0., 0., 0.],\n",
       "       [0., 0., 0., 0., 0., 0., 0., 0., 0., 0., 0., 0.],\n",
       "       [0., 0., 0., 0., 0., 0., 0., 0., 0., 0., 0., 0.]])"
      ]
     },
     "execution_count": 356,
     "metadata": {},
     "output_type": "execute_result"
    }
   ],
   "source": [
    "Choices"
   ]
  },
  {
   "cell_type": "markdown",
   "metadata": {},
   "source": [
    "# Cost Minimisation\n",
    "Set t to start from 0 and end with T. "
   ]
  },
  {
   "cell_type": "code",
   "execution_count": 242,
   "metadata": {},
   "outputs": [],
   "source": [
    "UU_first = Y[t-1]/z\n",
    "UU_second = np.power(np.power(np.multiply(HH, LL), alph), 1/(1-alph))\n",
    "UU = np.divide(np.divide(UU_first, UU_second), KK)"
   ]
  },
  {
   "cell_type": "code",
   "execution_count": 255,
   "metadata": {},
   "outputs": [],
   "source": [
    "II = KKNext - np.multiply((1-d), KK)\n",
    "DD = LLNext - LL\n",
    "LaborCosts = W + w* HH + w*overtime*(HH-FullTime) * (HH > FullTime)"
   ]
  },
  {
   "cell_type": "code",
   "execution_count": 285,
   "metadata": {},
   "outputs": [
    {
     "name": "stderr",
     "output_type": "stream",
     "text": [
      "/Users/chanmunfai/opt/anaconda3/lib/python3.7/site-packages/ipykernel_launcher.py:1: RuntimeWarning: divide by zero encountered in true_divide\n",
      "  \"\"\"Entry point for launching an IPython kernel.\n",
      "/Users/chanmunfai/opt/anaconda3/lib/python3.7/site-packages/ipykernel_launcher.py:1: RuntimeWarning: invalid value encountered in true_divide\n",
      "  \"\"\"Entry point for launching an IPython kernel.\n",
      "/Users/chanmunfai/opt/anaconda3/lib/python3.7/site-packages/ipykernel_launcher.py:2: RuntimeWarning: invalid value encountered in true_divide\n",
      "  \n",
      "/Users/chanmunfai/opt/anaconda3/lib/python3.7/site-packages/ipykernel_launcher.py:3: RuntimeWarning: divide by zero encountered in true_divide\n",
      "  This is separate from the ipykernel package so we can avoid doing imports until\n",
      "/Users/chanmunfai/opt/anaconda3/lib/python3.7/site-packages/ipykernel_launcher.py:3: RuntimeWarning: invalid value encountered in true_divide\n",
      "  This is separate from the ipykernel package so we can avoid doing imports until\n"
     ]
    }
   ],
   "source": [
    "CostNow_first = phi/2 * np.power(np.divide(II, KK) -d, 2) + (R-1) * KK\n",
    "CostNow_second = delta * np.divide(UU, (1-UU)) * KK\n",
    "CostNow_third = LaborCosts * (psi/2) * np.divide(np.power(DD, 2), LL)\n",
    "CostNow_fourth = LaborCosts * LL\n",
    "CostNow = CostNow_first + CostNow_second + CostNow_third + CostNow_fourth\n",
    "CostNow[UU>1] = inf"
   ]
  },
  {
   "cell_type": "code",
   "execution_count": 303,
   "metadata": {},
   "outputs": [
    {
     "data": {
      "text/plain": [
       "(45, 9)"
      ]
     },
     "execution_count": 303,
     "metadata": {},
     "output_type": "execute_result"
    }
   ],
   "source": [
    "CostNext_first = np.kron(CostNPV[:, t], np.ones(ngridH)) # be careful of whether it is t or t + 1\n",
    "CostNext = np.tile(CostNext_first, (ngridLK**2,1)).transpose()"
   ]
  },
  {
   "cell_type": "code",
   "execution_count": 333,
   "metadata": {
    "scrolled": true
   },
   "outputs": [],
   "source": [
    "CostNPV[:,t-1] = np.amin((CostNow + np.divide(CostNext, R)), axis = 0) # column min \n",
    "Choices[:, t-1] = np.argmin((CostNow + np.divide(CostNext, R)), axis = 0) "
   ]
  },
  {
   "cell_type": "code",
   "execution_count": 334,
   "metadata": {},
   "outputs": [
    {
     "data": {
      "text/plain": [
       "array([ 0,  0,  0,  0, 21, 25,  0, 35, 40])"
      ]
     },
     "execution_count": 334,
     "metadata": {},
     "output_type": "execute_result"
    }
   ],
   "source": [
    "np.argmin((CostNow + np.divide(CostNext, R)), axis = 0) "
   ]
  },
  {
   "cell_type": "markdown",
   "metadata": {},
   "source": [
    "## For loop"
   ]
  },
  {
   "cell_type": "code",
   "execution_count": 357,
   "metadata": {},
   "outputs": [
    {
     "name": "stderr",
     "output_type": "stream",
     "text": [
      "/Users/chanmunfai/opt/anaconda3/lib/python3.7/site-packages/ipykernel_launcher.py:6: RuntimeWarning: divide by zero encountered in true_divide\n",
      "  \n",
      "/Users/chanmunfai/opt/anaconda3/lib/python3.7/site-packages/ipykernel_launcher.py:12: RuntimeWarning: divide by zero encountered in true_divide\n",
      "  if sys.path[0] == '':\n",
      "/Users/chanmunfai/opt/anaconda3/lib/python3.7/site-packages/ipykernel_launcher.py:12: RuntimeWarning: invalid value encountered in true_divide\n",
      "  if sys.path[0] == '':\n",
      "/Users/chanmunfai/opt/anaconda3/lib/python3.7/site-packages/ipykernel_launcher.py:13: RuntimeWarning: invalid value encountered in true_divide\n",
      "  del sys.path[0]\n",
      "/Users/chanmunfai/opt/anaconda3/lib/python3.7/site-packages/ipykernel_launcher.py:14: RuntimeWarning: divide by zero encountered in true_divide\n",
      "  \n",
      "/Users/chanmunfai/opt/anaconda3/lib/python3.7/site-packages/ipykernel_launcher.py:14: RuntimeWarning: invalid value encountered in true_divide\n",
      "  \n"
     ]
    }
   ],
   "source": [
    "for t in range(T, 0, -1):\n",
    "    step = t \n",
    "    \n",
    "    UU_first = Y[t-1]/z\n",
    "    UU_second = np.power(np.power(np.multiply(HH, LL), alph), 1/(1-alph))\n",
    "    UU = np.divide(np.divide(UU_first, UU_second), KK)\n",
    "    \n",
    "    II = KKNext - np.multiply((1-d), KK)\n",
    "    DD = LLNext - LL\n",
    "    LaborCosts = W + w* HH + w*overtime*(HH-FullTime) * (HH > FullTime)\n",
    "    \n",
    "    CostNow_first = phi/2 * np.power(np.divide(II, KK) -d, 2) + (R-1) * KK\n",
    "    CostNow_second = delta * np.divide(UU, (1-UU)) * KK\n",
    "    CostNow_third = LaborCosts * (psi/2) * np.divide(np.power(DD, 2), LL)\n",
    "    CostNow_fourth = LaborCosts * LL\n",
    "    CostNow = CostNow_first + CostNow_second + CostNow_third + CostNow_fourth\n",
    "    CostNow[UU>1] = inf\n",
    "    \n",
    "    CostNext_first = np.kron(CostNPV[:, t], np.ones(ngridH)) # be careful of whether it is t or t + 1\n",
    "    CostNext = np.tile(CostNext_first, (ngridLK**2,1)).transpose()\n",
    "    \n",
    "    CostNPV[:,t-1] = np.amin((CostNow + np.divide(CostNext, R)), axis = 0) # column min \n",
    "    Choices[:, t-1] = np.argmin((CostNow + np.divide(CostNext, R)), axis = 0) "
   ]
  },
  {
   "cell_type": "code",
   "execution_count": 358,
   "metadata": {
    "scrolled": true
   },
   "outputs": [
    {
     "data": {
      "text/plain": [
       "array([[ 0.,  0.,  0.,  0.,  0.,  0.,  0.,  0.,  0.,  0.,  0.,  0.],\n",
       "       [ 0.,  0.,  0.,  0.,  0.,  0.,  0.,  0.,  0.,  0.,  0.,  0.],\n",
       "       [ 0.,  0.,  0.,  0.,  0.,  0.,  0.,  0.,  0.,  0.,  0.,  0.],\n",
       "       [ 0.,  0.,  0.,  0.,  0.,  0.,  0.,  0.,  0.,  0.,  0.,  0.],\n",
       "       [21., 26., 27., 29.,  0.,  0.,  0.,  0., 24., 23., 22., 22.],\n",
       "       [25., 25., 25., 26., 27., 28., 29., 27., 21., 20., 25., 25.],\n",
       "       [ 0.,  0.,  0.,  0.,  0.,  0.,  0.,  0.,  0.,  0.,  0.,  0.],\n",
       "       [20., 26., 27., 43., 44., 44.,  0., 39., 24., 22., 37., 37.],\n",
       "       [25., 25., 25., 40., 41., 42., 27., 26., 21., 20., 35., 40.]])"
      ]
     },
     "execution_count": 358,
     "metadata": {},
     "output_type": "execute_result"
    }
   ],
   "source": [
    "Choices"
   ]
  },
  {
   "cell_type": "code",
   "execution_count": 359,
   "metadata": {},
   "outputs": [
    {
     "data": {
      "text/plain": [
       "array([[        inf,         inf,         inf,         inf,         inf,\n",
       "                inf,         inf,         inf,         inf,         inf,\n",
       "                inf,         inf,  0.        ],\n",
       "       [        inf,         inf,         inf,         inf,         inf,\n",
       "                inf,         inf,         inf,         inf,         inf,\n",
       "                inf,         inf,  0.        ],\n",
       "       [        inf,         inf,         inf,         inf,         inf,\n",
       "                inf,         inf,         inf,         inf,         inf,\n",
       "                inf,         inf,  0.        ],\n",
       "       [        inf,         inf,         inf,         inf,         inf,\n",
       "                inf,         inf,         inf,         inf,         inf,\n",
       "                inf,         inf,  0.        ],\n",
       "       [10.27065216, 10.00394745,  9.67805308,  9.27677349,         inf,\n",
       "                inf,         inf,         inf,  3.65982158,  2.3061966 ,\n",
       "         1.48835623,  0.75517582,  0.        ],\n",
       "       [10.39804774,  9.96141547,  9.49635704,  8.94043393,  8.20254295,\n",
       "         7.24413639,  5.94173184,  4.50076085,  3.43130083,  2.4146841 ,\n",
       "         1.58204757,  0.80271379,  0.        ],\n",
       "       [        inf,         inf,         inf,         inf,         inf,\n",
       "                inf,         inf,         inf,         inf,         inf,\n",
       "                inf,         inf,  0.        ],\n",
       "       [10.52680772, 10.24861411,  9.86606048,  9.33141   ,  8.65814258,\n",
       "        10.92999797,         inf,  4.71748782,  3.51002432,  2.50306623,\n",
       "         1.65449397,  0.83947231,  0.        ],\n",
       "       [10.67150629, 10.23257631,  9.74415863,  9.114435  ,  8.26917452,\n",
       "         7.25398909,  6.00502236,  4.68282669,  3.58930083,  2.61972832,\n",
       "         1.81506186,  0.9310027 ,  0.        ]])"
      ]
     },
     "execution_count": 359,
     "metadata": {},
     "output_type": "execute_result"
    }
   ],
   "source": [
    "CostNPV"
   ]
  },
  {
   "cell_type": "code",
   "execution_count": 324,
   "metadata": {},
   "outputs": [
    {
     "data": {
      "text/plain": [
       "array([[        inf,         inf,         inf,         inf,         inf,\n",
       "                inf,         inf,         inf,         inf,         inf,\n",
       "                inf,         inf,         inf],\n",
       "       [        inf,         inf,         inf,         inf,         inf,\n",
       "                inf,         inf,         inf,         inf,         inf,\n",
       "                inf,         inf,         inf],\n",
       "       [        inf,         inf,         inf,         inf,         inf,\n",
       "                inf,         inf,         inf,         inf,         inf,\n",
       "                inf,         inf,         inf],\n",
       "       [        inf,         inf,         inf,         inf,         inf,\n",
       "                inf,         inf,         inf,         inf,         inf,\n",
       "                inf,         inf,         inf],\n",
       "       [10.80031728, 10.54950253, 10.23997481,  9.85555288,         inf,\n",
       "                inf,         inf,         inf,  4.33078552,  2.99728946,\n",
       "         2.20018187,  1.48835623,  0.75517582],\n",
       "       [10.92771287, 10.50697055, 10.05827877,  9.51921331,  8.79868571,\n",
       "         7.85816344,  6.5741797 ,  5.15218214,  4.10226476,  3.10577696,\n",
       "         2.31675734,  1.58204757,  0.80271379],\n",
       "       [        inf,         inf,         inf,         inf,         inf,\n",
       "                inf,         inf,         inf,         inf,         inf,\n",
       "                inf,         inf,         inf],\n",
       "       [11.05647284, 10.79416919, 10.42798221,  9.91018938,  9.25428534,\n",
       "        11.54402502,         inf,  5.36890912,  4.18098825,  3.19415908,\n",
       "         2.40947836,  1.65449397,  0.83947231],\n",
       "       [11.20117141, 10.77813139, 10.30608036,  9.69321438,  8.86531729,\n",
       "         7.86801614,  6.63747022,  5.33424799,  4.26026476,  3.31082117,\n",
       "         2.57004625,  1.81506186,  0.9310027 ]])"
      ]
     },
     "execution_count": 324,
     "metadata": {},
     "output_type": "execute_result"
    }
   ],
   "source": [
    "CostNPV"
   ]
  },
  {
   "cell_type": "markdown",
   "metadata": {},
   "source": [
    "## Put everything together"
   ]
  },
  {
   "cell_type": "code",
   "execution_count": 360,
   "metadata": {},
   "outputs": [
    {
     "name": "stderr",
     "output_type": "stream",
     "text": [
      "/Users/chanmunfai/opt/anaconda3/lib/python3.7/site-packages/ipykernel_launcher.py:62: RuntimeWarning: divide by zero encountered in true_divide\n",
      "/Users/chanmunfai/opt/anaconda3/lib/python3.7/site-packages/ipykernel_launcher.py:68: RuntimeWarning: divide by zero encountered in true_divide\n",
      "/Users/chanmunfai/opt/anaconda3/lib/python3.7/site-packages/ipykernel_launcher.py:68: RuntimeWarning: invalid value encountered in true_divide\n",
      "/Users/chanmunfai/opt/anaconda3/lib/python3.7/site-packages/ipykernel_launcher.py:69: RuntimeWarning: invalid value encountered in true_divide\n",
      "/Users/chanmunfai/opt/anaconda3/lib/python3.7/site-packages/ipykernel_launcher.py:70: RuntimeWarning: divide by zero encountered in true_divide\n",
      "/Users/chanmunfai/opt/anaconda3/lib/python3.7/site-packages/ipykernel_launcher.py:70: RuntimeWarning: invalid value encountered in true_divide\n"
     ]
    }
   ],
   "source": [
    "R = 1.03 # real interest rate \n",
    "z = 0.3 \n",
    "alph = 2/3 # typical labour share\n",
    "d = 0.08 # depreciation rate\n",
    "YPostWar = 0.3\n",
    "YPreWar = 0.1 # 1938\n",
    "YWar = [0.15, 0.325, 0.66, 1.2, 2.1, 2.4, 1.2, 0.9, 0.44] # 1939 to 1947 \n",
    "PreWarLength = 5\n",
    "WarLength = len(YWar)\n",
    "\n",
    "phi = 1 # need to calibrate \n",
    "w = 0.526 \n",
    "W = 0.24 * 0.25 * w\n",
    "overtime = 0.5\n",
    "FullTime = 0.24\n",
    "delta = 0.0364\n",
    "psi = 1 # need to calibrate\n",
    "\n",
    "T = 12 # 100\n",
    "ngridLK = 3 # 50\n",
    "ngridH = 5 # 10\n",
    "grid = ngridLK**2 * ngridH\n",
    "\n",
    "maxK = 10 # 20\n",
    "maxL = 5 # 20\n",
    "maxH = 0.35 \n",
    "minH = 0.15\n",
    "\n",
    "gridK = np.linspace(0, maxK, ngridLK)\n",
    "gridL = np.linspace(0, maxL, ngridLK)\n",
    "gridH = np.linspace(minH, maxH, ngridH)\n",
    "\n",
    "HH_first = np.transpose(np.ones(ngridLK**2))\n",
    "HH_second = np.kron(HH_first, np.transpose(gridH))\n",
    "HH = np.tile(HH_second, (ngridLK**2,1)).transpose()\n",
    "\n",
    "LLNext_first = np.kron(gridL.transpose(), np.ones(ngridH))\n",
    "LLNext_second = np.kron(np.ones(ngridLK), LLNext_first)\n",
    "LLNext = np.tile(LLNext_second, (ngridLK**2,1)).transpose()\n",
    "\n",
    "KKNext_first = np.kron(gridK.transpose(), np.ones(ngridH * ngridLK))\n",
    "KKNext = np.tile(KKNext_first, (ngridLK**2,1)).transpose()\n",
    "\n",
    "LL_first = np.kron(np.ones(ngridLK), gridL)\n",
    "LL = np.tile(LL_first, (grid,1))\n",
    "\n",
    "KK_first = np.kron(gridK, np.ones(ngridLK))\n",
    "KK = np.tile(KK_first, (grid,1))\n",
    "\n",
    "Y = [[YPreWar], YWar, [YPostWar] * (T-WarLength-1)]\n",
    "Y = list(np.concatenate(Y).flat) # flatten list\n",
    "\n",
    "CostNPV = np.zeros((ngridLK**2, T+1))\n",
    "Choices = np.zeros((ngridLK**2, T))\n",
    "CostNow = np.zeros_like(HH)\n",
    "\n",
    "for t in range(T, 0, -1):\n",
    "    step = t \n",
    "    \n",
    "    UU_first = Y[t-1]/z\n",
    "    UU_second = np.power(np.power(np.multiply(HH, LL), alph), 1/(1-alph))\n",
    "    UU = np.divide(np.divide(UU_first, UU_second), KK)\n",
    "    \n",
    "    II = KKNext - np.multiply((1-d), KK)\n",
    "    DD = LLNext - LL\n",
    "    LaborCosts = W + w* HH + w*overtime*(HH-FullTime) * (HH > FullTime)\n",
    "    \n",
    "    CostNow_first = phi/2 * np.power(np.divide(II, KK) -d, 2) + (R-1) * KK\n",
    "    CostNow_second = delta * np.divide(UU, (1-UU)) * KK\n",
    "    CostNow_third = LaborCosts * (psi/2) * np.divide(np.power(DD, 2), LL)\n",
    "    CostNow_fourth = LaborCosts * LL\n",
    "    CostNow = CostNow_first + CostNow_second + CostNow_third + CostNow_fourth\n",
    "    CostNow[UU>1] = inf\n",
    "    \n",
    "    CostNext_first = np.kron(CostNPV[:, t], np.ones(ngridH)) # be careful of whether it is t or t + 1\n",
    "    CostNext = np.tile(CostNext_first, (ngridLK**2,1)).transpose()\n",
    "    \n",
    "    CostNPV[:,t-1] = np.amin((CostNow + np.divide(CostNext, R)), axis = 0) # column min \n",
    "    Choices[:, t-1] = np.argmin((CostNow + np.divide(CostNext, R)), axis = 0) "
   ]
  },
  {
   "cell_type": "code",
   "execution_count": 361,
   "metadata": {},
   "outputs": [
    {
     "data": {
      "text/plain": [
       "array([[ 0.,  0.,  0.,  0.,  0.,  0.,  0.,  0.,  0.,  0.,  0.,  0.],\n",
       "       [ 0.,  0.,  0.,  0.,  0.,  0.,  0.,  0.,  0.,  0.,  0.,  0.],\n",
       "       [ 0.,  0.,  0.,  0.,  0.,  0.,  0.,  0.,  0.,  0.,  0.,  0.],\n",
       "       [ 0.,  0.,  0.,  0.,  0.,  0.,  0.,  0.,  0.,  0.,  0.,  0.],\n",
       "       [21., 26., 27., 29.,  0.,  0.,  0.,  0., 24., 23., 22., 22.],\n",
       "       [25., 25., 25., 26., 27., 28., 29., 27., 21., 20., 25., 25.],\n",
       "       [ 0.,  0.,  0.,  0.,  0.,  0.,  0.,  0.,  0.,  0.,  0.,  0.],\n",
       "       [20., 26., 27., 43., 44., 44.,  0., 39., 24., 22., 37., 37.],\n",
       "       [25., 25., 25., 40., 41., 42., 27., 26., 21., 20., 35., 40.]])"
      ]
     },
     "execution_count": 361,
     "metadata": {},
     "output_type": "execute_result"
    }
   ],
   "source": [
    "Choices"
   ]
  },
  {
   "cell_type": "code",
   "execution_count": 364,
   "metadata": {},
   "outputs": [
    {
     "data": {
      "text/html": [
       "<div>\n",
       "<style scoped>\n",
       "    .dataframe tbody tr th:only-of-type {\n",
       "        vertical-align: middle;\n",
       "    }\n",
       "\n",
       "    .dataframe tbody tr th {\n",
       "        vertical-align: top;\n",
       "    }\n",
       "\n",
       "    .dataframe thead th {\n",
       "        text-align: right;\n",
       "    }\n",
       "</style>\n",
       "<table border=\"1\" class=\"dataframe\">\n",
       "  <thead>\n",
       "    <tr style=\"text-align: right;\">\n",
       "      <th></th>\n",
       "      <th>0</th>\n",
       "      <th>1</th>\n",
       "      <th>2</th>\n",
       "      <th>3</th>\n",
       "      <th>4</th>\n",
       "      <th>5</th>\n",
       "      <th>6</th>\n",
       "      <th>7</th>\n",
       "      <th>8</th>\n",
       "      <th>9</th>\n",
       "      <th>10</th>\n",
       "      <th>11</th>\n",
       "      <th>12</th>\n",
       "    </tr>\n",
       "  </thead>\n",
       "  <tbody>\n",
       "    <tr>\n",
       "      <td>0</td>\n",
       "      <td>inf</td>\n",
       "      <td>inf</td>\n",
       "      <td>inf</td>\n",
       "      <td>inf</td>\n",
       "      <td>inf</td>\n",
       "      <td>inf</td>\n",
       "      <td>inf</td>\n",
       "      <td>inf</td>\n",
       "      <td>inf</td>\n",
       "      <td>inf</td>\n",
       "      <td>inf</td>\n",
       "      <td>inf</td>\n",
       "      <td>0.0</td>\n",
       "    </tr>\n",
       "    <tr>\n",
       "      <td>1</td>\n",
       "      <td>inf</td>\n",
       "      <td>inf</td>\n",
       "      <td>inf</td>\n",
       "      <td>inf</td>\n",
       "      <td>inf</td>\n",
       "      <td>inf</td>\n",
       "      <td>inf</td>\n",
       "      <td>inf</td>\n",
       "      <td>inf</td>\n",
       "      <td>inf</td>\n",
       "      <td>inf</td>\n",
       "      <td>inf</td>\n",
       "      <td>0.0</td>\n",
       "    </tr>\n",
       "    <tr>\n",
       "      <td>2</td>\n",
       "      <td>inf</td>\n",
       "      <td>inf</td>\n",
       "      <td>inf</td>\n",
       "      <td>inf</td>\n",
       "      <td>inf</td>\n",
       "      <td>inf</td>\n",
       "      <td>inf</td>\n",
       "      <td>inf</td>\n",
       "      <td>inf</td>\n",
       "      <td>inf</td>\n",
       "      <td>inf</td>\n",
       "      <td>inf</td>\n",
       "      <td>0.0</td>\n",
       "    </tr>\n",
       "    <tr>\n",
       "      <td>3</td>\n",
       "      <td>inf</td>\n",
       "      <td>inf</td>\n",
       "      <td>inf</td>\n",
       "      <td>inf</td>\n",
       "      <td>inf</td>\n",
       "      <td>inf</td>\n",
       "      <td>inf</td>\n",
       "      <td>inf</td>\n",
       "      <td>inf</td>\n",
       "      <td>inf</td>\n",
       "      <td>inf</td>\n",
       "      <td>inf</td>\n",
       "      <td>0.0</td>\n",
       "    </tr>\n",
       "    <tr>\n",
       "      <td>4</td>\n",
       "      <td>10.270652</td>\n",
       "      <td>10.003947</td>\n",
       "      <td>9.678053</td>\n",
       "      <td>9.276773</td>\n",
       "      <td>inf</td>\n",
       "      <td>inf</td>\n",
       "      <td>inf</td>\n",
       "      <td>inf</td>\n",
       "      <td>3.659822</td>\n",
       "      <td>2.306197</td>\n",
       "      <td>1.488356</td>\n",
       "      <td>0.755176</td>\n",
       "      <td>0.0</td>\n",
       "    </tr>\n",
       "    <tr>\n",
       "      <td>5</td>\n",
       "      <td>10.398048</td>\n",
       "      <td>9.961415</td>\n",
       "      <td>9.496357</td>\n",
       "      <td>8.940434</td>\n",
       "      <td>8.202543</td>\n",
       "      <td>7.244136</td>\n",
       "      <td>5.941732</td>\n",
       "      <td>4.500761</td>\n",
       "      <td>3.431301</td>\n",
       "      <td>2.414684</td>\n",
       "      <td>1.582048</td>\n",
       "      <td>0.802714</td>\n",
       "      <td>0.0</td>\n",
       "    </tr>\n",
       "    <tr>\n",
       "      <td>6</td>\n",
       "      <td>inf</td>\n",
       "      <td>inf</td>\n",
       "      <td>inf</td>\n",
       "      <td>inf</td>\n",
       "      <td>inf</td>\n",
       "      <td>inf</td>\n",
       "      <td>inf</td>\n",
       "      <td>inf</td>\n",
       "      <td>inf</td>\n",
       "      <td>inf</td>\n",
       "      <td>inf</td>\n",
       "      <td>inf</td>\n",
       "      <td>0.0</td>\n",
       "    </tr>\n",
       "    <tr>\n",
       "      <td>7</td>\n",
       "      <td>10.526808</td>\n",
       "      <td>10.248614</td>\n",
       "      <td>9.866060</td>\n",
       "      <td>9.331410</td>\n",
       "      <td>8.658143</td>\n",
       "      <td>10.929998</td>\n",
       "      <td>inf</td>\n",
       "      <td>4.717488</td>\n",
       "      <td>3.510024</td>\n",
       "      <td>2.503066</td>\n",
       "      <td>1.654494</td>\n",
       "      <td>0.839472</td>\n",
       "      <td>0.0</td>\n",
       "    </tr>\n",
       "    <tr>\n",
       "      <td>8</td>\n",
       "      <td>10.671506</td>\n",
       "      <td>10.232576</td>\n",
       "      <td>9.744159</td>\n",
       "      <td>9.114435</td>\n",
       "      <td>8.269175</td>\n",
       "      <td>7.253989</td>\n",
       "      <td>6.005022</td>\n",
       "      <td>4.682827</td>\n",
       "      <td>3.589301</td>\n",
       "      <td>2.619728</td>\n",
       "      <td>1.815062</td>\n",
       "      <td>0.931003</td>\n",
       "      <td>0.0</td>\n",
       "    </tr>\n",
       "  </tbody>\n",
       "</table>\n",
       "</div>"
      ],
      "text/plain": [
       "           0          1         2         3         4          5         6  \\\n",
       "0        inf        inf       inf       inf       inf        inf       inf   \n",
       "1        inf        inf       inf       inf       inf        inf       inf   \n",
       "2        inf        inf       inf       inf       inf        inf       inf   \n",
       "3        inf        inf       inf       inf       inf        inf       inf   \n",
       "4  10.270652  10.003947  9.678053  9.276773       inf        inf       inf   \n",
       "5  10.398048   9.961415  9.496357  8.940434  8.202543   7.244136  5.941732   \n",
       "6        inf        inf       inf       inf       inf        inf       inf   \n",
       "7  10.526808  10.248614  9.866060  9.331410  8.658143  10.929998       inf   \n",
       "8  10.671506  10.232576  9.744159  9.114435  8.269175   7.253989  6.005022   \n",
       "\n",
       "          7         8         9        10        11   12  \n",
       "0       inf       inf       inf       inf       inf  0.0  \n",
       "1       inf       inf       inf       inf       inf  0.0  \n",
       "2       inf       inf       inf       inf       inf  0.0  \n",
       "3       inf       inf       inf       inf       inf  0.0  \n",
       "4       inf  3.659822  2.306197  1.488356  0.755176  0.0  \n",
       "5  4.500761  3.431301  2.414684  1.582048  0.802714  0.0  \n",
       "6       inf       inf       inf       inf       inf  0.0  \n",
       "7  4.717488  3.510024  2.503066  1.654494  0.839472  0.0  \n",
       "8  4.682827  3.589301  2.619728  1.815062  0.931003  0.0  "
      ]
     },
     "execution_count": 364,
     "metadata": {},
     "output_type": "execute_result"
    }
   ],
   "source": [
    "pd.DataFrame(CostNPV)"
   ]
  },
  {
   "cell_type": "code",
   "execution_count": null,
   "metadata": {},
   "outputs": [],
   "source": []
  }
 ],
 "metadata": {
  "kernelspec": {
   "display_name": "Python 3",
   "language": "python",
   "name": "python3"
  },
  "language_info": {
   "codemirror_mode": {
    "name": "ipython",
    "version": 3
   },
   "file_extension": ".py",
   "mimetype": "text/x-python",
   "name": "python",
   "nbconvert_exporter": "python",
   "pygments_lexer": "ipython3",
   "version": "3.7.4"
  }
 },
 "nbformat": 4,
 "nbformat_minor": 2
}
