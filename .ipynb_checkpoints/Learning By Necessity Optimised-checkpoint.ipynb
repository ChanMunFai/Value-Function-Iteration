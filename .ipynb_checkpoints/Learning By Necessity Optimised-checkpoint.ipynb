{
 "cells": [
  {
   "cell_type": "code",
   "execution_count": 1,
   "metadata": {},
   "outputs": [],
   "source": [
    "import numpy as np\n",
    "from numpy import inf\n",
    "import pandas as pd"
   ]
  },
  {
   "cell_type": "markdown",
   "metadata": {},
   "source": [
    "# Learning by Necessity \n",
    "Source: Ethan Ilzetzki \n"
   ]
  },
  {
   "cell_type": "markdown",
   "metadata": {},
   "source": [
    "## Overview\n",
    "\n",
    "Consider that a plant uses a Cobb-Douglas production function. \n",
    "\n",
    "$$\n",
    "Y_t = z(H_t L_t)^\\alpha (U_t K_t)^{1-\\alpha}\n",
    "$$\n",
    "\n",
    "where $z$ is total factor productivity, $H_t$ hours worked, $L_t$ number of workers, $U_t$ capital utilisation and $K_t$ the quantity of capital. \n",
    "\n",
    "The plants current cost is then \n",
    "\n",
    "$$\n",
    "\\text{Current Costs} = \\text{Labour Costs} [L_t + \\Phi(D_t/L_t)] + K_t \\delta(U_t) + K_t J(I_t/K_t) + rK_t\\\\\n",
    "\\text {where Labour Costs} = \\text{fixed wage} + \\text{variable wage} \\\\\n",
    "                           = W + w * HH + ww * overtime * (HH - FT) * (HH > FT) \n",
    "$$\n",
    "\n",
    "$\\Phi(D_t/L_t)$ are adjustment costs to hiring $D_t$, $\\delta(U_t)$ are convex costs to utilisation,  $J(I_t/K_t)$ are adjustment costs to investment $I$ and $r_t$ is the interest rate which represent opportunity cost of utilising capital. \n"
   ]
  },
  {
   "cell_type": "markdown",
   "metadata": {},
   "source": [
    "We set functional forms for $\\phi, \\delta, and J$ and callibrate parameters as follows. "
   ]
  },
  {
   "cell_type": "code",
   "execution_count": 2,
   "metadata": {},
   "outputs": [],
   "source": [
    "# Parameters\n",
    "R = 1.03 # real interest rate \n",
    "z = 0.3 \n",
    "alph = 2/3 # typical labour share\n",
    "d = 0.08 # depreciation rate\n",
    "YPostWar = 0.3\n",
    "YPreWar = 0.1 # 1938\n",
    "YWar = [0.15, 0.325, 0.66, 1.2, 2.1, 2.4, 1.2, 0.9, 0.44] # 1939 to 1947 \n",
    "PreWarLength = 5\n",
    "WarLength = len(YWar)\n",
    "\n",
    "phi = 1 # need to calibrate \n",
    "w = 0.526 \n",
    "W = 0.24 * 0.25 * w # fixed wage\n",
    "overtime = 0.5\n",
    "FullTime = 0.24\n",
    "delta = 0.0364\n",
    "psi = 1 # need to calibrate"
   ]
  },
  {
   "cell_type": "markdown",
   "metadata": {},
   "source": [
    "However, note that $\\phi$ and $\\psi$ need to be calibrated to second moments. We will use the war shock to calibrate them(?). "
   ]
  },
  {
   "cell_type": "markdown",
   "metadata": {},
   "source": [
    "Given a fixed output $Y_t$ where $Y$ is given by historical data, the firm seeks to minimise Net Present Value of its cost. \n",
    "\n",
    "$$\n",
    "CostNPV =  min[CostNow + \\sum CostNext]\n",
    "$$\n",
    "\n",
    "In so doing, it chooses apporpriate levels of $D_t$, $L_{t+1}$, $I_{t}$, $K_{t+1}$, $H_t$, $U_t$. \n",
    "\n",
    "This is equivalent to choosing $K_{t+1}$, $L_{t+1}$, $H_t$ given the current <b>state</b> $K_t, L_t$.\n",
    "\n",
    "The <b>value</b> is then the  RHS of the equation. "
   ]
  },
  {
   "cell_type": "code",
   "execution_count": null,
   "metadata": {},
   "outputs": [],
   "source": []
  }
 ],
 "metadata": {
  "kernelspec": {
   "display_name": "Python 3",
   "language": "python",
   "name": "python3"
  },
  "language_info": {
   "codemirror_mode": {
    "name": "ipython",
    "version": 3
   },
   "file_extension": ".py",
   "mimetype": "text/x-python",
   "name": "python",
   "nbconvert_exporter": "python",
   "pygments_lexer": "ipython3",
   "version": "3.7.4"
  }
 },
 "nbformat": 4,
 "nbformat_minor": 2
}
